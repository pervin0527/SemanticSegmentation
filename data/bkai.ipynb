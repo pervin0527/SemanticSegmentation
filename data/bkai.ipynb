{
 "cells": [
  {
   "cell_type": "code",
   "execution_count": 1,
   "metadata": {},
   "outputs": [],
   "source": [
    "import cv2\n",
    "import random\n",
    "import numpy as np\n",
    "import albumentations as A\n",
    "\n",
    "from glob import glob\n",
    "from torch.utils.data import Dataset\n",
    "from albumentations.pytorch import ToTensorV2"
   ]
  },
  {
   "cell_type": "code",
   "execution_count": 2,
   "metadata": {},
   "outputs": [],
   "source": [
    "data_dir = \"/home/pervinco/Datasets/BKAI_IGH_NeoPolyp\""
   ]
  },
  {
   "cell_type": "code",
   "execution_count": null,
   "metadata": {},
   "outputs": [],
   "source": [
    "def get_transform(is_train, img_size):\n",
    "    if is_train:\n",
    "        transform = A.Compose([\n",
    "            A.Resize(img_size, img_size, p=1, always_apply=True),\n",
    "            A.HorizontalFlip(p=0.5),\n",
    "            A.VerticalFlip(p=0.5),\n",
    "            \n",
    "            A.RandomGamma (gamma_limit=(70, 130), eps=None, always_apply=False, p=0.2),\n",
    "            A.RGBShift(p=0.3, r_shift_limit=10, g_shift_limit=10, b_shift_limit=10),\n",
    "            \n",
    "            A.OneOf([A.Blur(), A.GaussianBlur(), A.GlassBlur(), A.MotionBlur(), A.GaussNoise(), A.Sharpen(), A.MedianBlur(), A.MultiplicativeNoise()]),\n",
    "\n",
    "            A.CoarseDropout(p=0.2, max_height=35, max_width=35, fill_value=0, mask_fill_value=0),\n",
    "            A.RandomSnow(snow_point_lower=0.1, snow_point_upper=0.15, brightness_coeff=1.5, p=0.09),\n",
    "            A.RandomShadow(p=0.1),\n",
    "            A.ShiftScaleRotate(p=0.45, border_mode=cv2.BORDER_CONSTANT, shift_limit=0.15, scale_limit=0.15, rotate_limit=180),\n",
    "            A.RandomCrop(img_size, img_size)])\n",
    "    else:\n",
    "        transform = A.Compose([A.Resize(img_size, img_size, p=1, always_apply=True)])\n",
    "\n",
    "    return transform"
   ]
  },
  {
   "cell_type": "code",
   "execution_count": null,
   "metadata": {},
   "outputs": [],
   "source": [
    "def mask_encoding(mask):  \n",
    "    hsv_mask = cv2.cvtColor(mask, cv2.COLOR_BGR2HSV)\n",
    "    \n",
    "    # lower boundary RED color range values; Hue (0 - 10)\n",
    "    lower1 = np.array([0, 100, 20])\n",
    "    upper1 = np.array([10, 255, 255])\n",
    "    \n",
    "    # upper boundary RED color range values; Hue (160 - 180)\n",
    "    lower2 = np.array([160,100,20])\n",
    "    upper2 = np.array([179,255,255])\n",
    "\n",
    "    lower_mask = cv2.inRange(hsv_mask, lower1, upper1)\n",
    "    upper_mask = cv2.inRange(hsv_mask, lower2, upper2)\n",
    "    red_mask = lower_mask + upper_mask\n",
    "    red_mask[red_mask != 0] = 2\n",
    "\n",
    "    # boundary RED color range values; Hue (36 - 70)\n",
    "    green_mask = cv2.inRange(hsv_mask, (36, 25, 25), (70, 255,255))\n",
    "    green_mask[green_mask != 0] = 1\n",
    "    full_mask = cv2.bitwise_or(red_mask, green_mask)\n",
    "    full_mask = full_mask.astype(np.uint8)\n",
    "\n",
    "    return full_mask\n",
    "\n",
    "\n",
    "def mask_decoding(pred_mask):\n",
    "    decoded_mask = np.zeros((pred_mask.shape[0], pred_mask.shape[1], 3), dtype=np.uint8)\n",
    "    decoded_mask[pred_mask == 0] = [0, 0, 0]\n",
    "    decoded_mask[pred_mask == 1] = [0, 255, 0] ## Green\n",
    "    decoded_mask[pred_mask == 2] = [255, 0, 0] ## Red\n",
    "    \n",
    "    return decoded_mask"
   ]
  },
  {
   "cell_type": "code",
   "execution_count": 3,
   "metadata": {},
   "outputs": [],
   "source": [
    "class BKAIDataset(Dataset):\n",
    "    def __init__(self, data_dir, img_size):\n",
    "        self.img_size = img_size\n",
    "        self.data_dir = data_dir\n",
    "        self.image_dir = f\"{self.data_dir}/train\"\n",
    "        self.mask_dir = f\"{self.data_dir}/train_gt\"\n",
    "        self.transform = get_transform(is_train=True, img_size=self.img_size)\n",
    "\n",
    "        self.image_files = sorted(glob(f\"{self.image_dir}/*.jpeg\"))\n",
    "        self.mask_files = sorted(glob(f\"{self.mask_dir}/*.jpeg\"))\n",
    "        \n",
    "        self.total_files = list(zip(self.image_files, self.mask_files))\n",
    "\n",
    "    def __len__(self):\n",
    "        return len(self.total_files)\n",
    "    \n",
    "    def __getitem__(self, idx):\n",
    "        image_path, mask_path = self.total_files[idx]\n",
    "\n",
    "        image = cv2.imread(image_path)\n",
    "        image = cv2.cvtColor(image, cv2.COLOR_BGR2RGB)\n",
    "\n",
    "        mask = cv2.imread(mask_path)\n",
    "        \n",
    "        transformed = self.transform(image=image, mask=mask)\n",
    "        image, mask = transformed[\"image\"], transformed[\"mask\"]\n",
    "\n",
    "        encoded_mask = mask_encoding(mask)\n",
    "\n",
    "        return image, encoded_mask"
   ]
  },
  {
   "cell_type": "code",
   "execution_count": 4,
   "metadata": {},
   "outputs": [
    {
     "name": "stdout",
     "output_type": "stream",
     "text": [
      "1000\n"
     ]
    }
   ],
   "source": [
    "dataset = BKAIDataset(data_dir, img_size=512)"
   ]
  }
 ],
 "metadata": {
  "kernelspec": {
   "display_name": "DL",
   "language": "python",
   "name": "python3"
  },
  "language_info": {
   "codemirror_mode": {
    "name": "ipython",
    "version": 3
   },
   "file_extension": ".py",
   "mimetype": "text/x-python",
   "name": "python",
   "nbconvert_exporter": "python",
   "pygments_lexer": "ipython3",
   "version": "3.8.19"
  }
 },
 "nbformat": 4,
 "nbformat_minor": 2
}
